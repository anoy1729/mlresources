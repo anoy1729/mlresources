{
  "nbformat": 4,
  "nbformat_minor": 0,
  "metadata": {
    "colab": {
      "name": "Nsl D.ipynb",
      "provenance": [],
      "collapsed_sections": [],
      "authorship_tag": "ABX9TyOeV8rgGWQ0Iu9zmAs5Gr82",
      "include_colab_link": true
    },
    "kernelspec": {
      "name": "python3",
      "display_name": "Python 3"
    }
  },
  "cells": [
    {
      "cell_type": "markdown",
      "metadata": {
        "id": "view-in-github",
        "colab_type": "text"
      },
      "source": [
        "<a href=\"https://colab.research.google.com/github/anoy1729/mlresources/blob/master/Nsl_D.ipynb\" target=\"_parent\"><img src=\"https://colab.research.google.com/assets/colab-badge.svg\" alt=\"Open In Colab\"/></a>"
      ]
    },
    {
      "cell_type": "code",
      "metadata": {
        "id": "sLCmnQs-AahG",
        "colab_type": "code",
        "colab": {}
      },
      "source": [
        "import cv2\n",
        "import numpy as np"
      ],
      "execution_count": 69,
      "outputs": []
    },
    {
      "cell_type": "code",
      "metadata": {
        "id": "DfT7CHCDCjqQ",
        "colab_type": "code",
        "colab": {}
      },
      "source": [
        "img = cv2.imread('final.jpg', 1)\n",
        "print(img)"
      ],
      "execution_count": null,
      "outputs": []
    },
    {
      "cell_type": "code",
      "metadata": {
        "id": "rJZdUUuxV9RR",
        "colab_type": "code",
        "colab": {}
      },
      "source": [
        "r,g,b = cv2.split(img)\n",
        "print(img)"
      ],
      "execution_count": null,
      "outputs": []
    },
    {
      "cell_type": "code",
      "metadata": {
        "id": "pwl6kxBJcqDV",
        "colab_type": "code",
        "colab": {}
      },
      "source": [
        "numr = np.array(r)\n",
        "numg = np.array(g)\n",
        "numb = np.array(b)\n",
        "print(r)\n",
        "print(g)\n",
        "print(b)"
      ],
      "execution_count": null,
      "outputs": []
    },
    {
      "cell_type": "code",
      "metadata": {
        "id": "svEYTiIdV9QB",
        "colab_type": "code",
        "colab": {}
      },
      "source": [
        "\n",
        "rsum = numr.sum(axis=1)\n",
        "gsum = numr.sum(axis=1)\n",
        "bsum = numr.sum(axis=1)\n",
        "print(rsum)\n",
        "print(gsum)\n",
        "print(bsum)\n"
      ],
      "execution_count": null,
      "outputs": []
    },
    {
      "cell_type": "code",
      "metadata": {
        "id": "X8dUHi2Ydauc",
        "colab_type": "code",
        "colab": {}
      },
      "source": [
        "rmean = numr.mean(axis=1)\n",
        "gmean = numr.mean(axis=1)\n",
        "bmean= numr.mean(axis=1)\n",
        "print(rmean)\n",
        "print(gmean)\n",
        "print(bmean)"
      ],
      "execution_count": null,
      "outputs": []
    }
  ]
}