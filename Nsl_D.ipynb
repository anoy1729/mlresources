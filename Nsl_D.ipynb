{
  "nbformat": 4,
  "nbformat_minor": 0,
  "metadata": {
    "colab": {
      "name": "Nsl D.ipynb",
      "provenance": [],
      "collapsed_sections": [],
      "authorship_tag": "ABX9TyPFb7Ms8//fxCkh4AY353BS",
      "include_colab_link": true
    },
    "kernelspec": {
      "name": "python3",
      "display_name": "Python 3"
    }
  },
  "cells": [
    {
      "cell_type": "markdown",
      "metadata": {
        "id": "view-in-github",
        "colab_type": "text"
      },
      "source": [
        "<a href=\"https://colab.research.google.com/github/anoy1729/mlresources/blob/master/Nsl_D.ipynb\" target=\"_parent\"><img src=\"https://colab.research.google.com/assets/colab-badge.svg\" alt=\"Open In Colab\"/></a>"
      ]
    },
    {
      "cell_type": "code",
      "metadata": {
        "id": "sLCmnQs-AahG",
        "colab_type": "code",
        "colab": {
          "base_uri": "https://localhost:8080/",
          "height": 34
        },
        "outputId": "79f65510-7bad-42bc-d268-5b75ffb0fda0"
      },
      "source": [
        "import cv2\n",
        "import numpy as np\n",
        "\n",
        "from google.colab import drive\n",
        "drive.mount('/content/drive')"
      ],
      "execution_count": 41,
      "outputs": [
        {
          "output_type": "stream",
          "text": [
            "Drive already mounted at /content/drive; to attempt to forcibly remount, call drive.mount(\"/content/drive\", force_remount=True).\n"
          ],
          "name": "stdout"
        }
      ]
    },
    {
      "cell_type": "code",
      "metadata": {
        "id": "DfT7CHCDCjqQ",
        "colab_type": "code",
        "colab": {
          "base_uri": "https://localhost:8080/",
          "height": 202
        },
        "outputId": "61f80ce9-400d-4657-bae9-27c10f32e73b"
      },
      "source": [
        "img = cv2.imread('final.jpg', 1)\n",
        "print(img)"
      ],
      "execution_count": 52,
      "outputs": [
        {
          "output_type": "stream",
          "text": [
            "[[[212 220 237]\n",
            "  [211 219 236]\n",
            "  [212 219 238]]\n",
            "\n",
            " [[214 222 239]\n",
            "  [204 212 229]\n",
            "  [197 204 223]]\n",
            "\n",
            " [[189 194 219]\n",
            "  [168 173 198]\n",
            "  [147 152 177]]]\n"
          ],
          "name": "stdout"
        }
      ]
    },
    {
      "cell_type": "code",
      "metadata": {
        "id": "rJZdUUuxV9RR",
        "colab_type": "code",
        "colab": {
          "base_uri": "https://localhost:8080/",
          "height": 202
        },
        "outputId": "a9df3c83-8f77-437b-a452-73b3b0f566ad"
      },
      "source": [
        "r,g,b = cv2.split(img)\n",
        "print(img)"
      ],
      "execution_count": 66,
      "outputs": [
        {
          "output_type": "stream",
          "text": [
            "[[[212 220 237]\n",
            "  [211 219 236]\n",
            "  [212 219 238]]\n",
            "\n",
            " [[214 222 239]\n",
            "  [204 212 229]\n",
            "  [197 204 223]]\n",
            "\n",
            " [[189 194 219]\n",
            "  [168 173 198]\n",
            "  [147 152 177]]]\n"
          ],
          "name": "stdout"
        }
      ]
    },
    {
      "cell_type": "code",
      "metadata": {
        "id": "pwl6kxBJcqDV",
        "colab_type": "code",
        "colab": {
          "base_uri": "https://localhost:8080/",
          "height": 168
        },
        "outputId": "40587a29-c252-40de-ee7c-f1dee9ee4991"
      },
      "source": [
        "numr = np.array(r)\n",
        "numg = np.array(g)\n",
        "numb = np.array(b)\n",
        "print(r)\n",
        "print(g)\n",
        "print(b)"
      ],
      "execution_count": 62,
      "outputs": [
        {
          "output_type": "stream",
          "text": [
            "[[212 211 212]\n",
            " [214 204 197]\n",
            " [189 168 147]]\n",
            "[[220 219 219]\n",
            " [222 212 204]\n",
            " [194 173 152]]\n",
            "[[237 236 238]\n",
            " [239 229 223]\n",
            " [219 198 177]]\n"
          ],
          "name": "stdout"
        }
      ]
    },
    {
      "cell_type": "code",
      "metadata": {
        "id": "svEYTiIdV9QB",
        "colab_type": "code",
        "colab": {
          "base_uri": "https://localhost:8080/",
          "height": 67
        },
        "outputId": "91298d86-a904-43f6-83b1-1a686b24e77a"
      },
      "source": [
        "\n",
        "rsum = numr.sum(axis=1)\n",
        "gsum = numr.sum(axis=1)\n",
        "bsum = numr.sum(axis=1)\n",
        "print(rsum)\n",
        "print(gsum)\n",
        "print(bsum)\n"
      ],
      "execution_count": 64,
      "outputs": [
        {
          "output_type": "stream",
          "text": [
            "[635 615 504]\n",
            "[635 615 504]\n",
            "[635 615 504]\n"
          ],
          "name": "stdout"
        }
      ]
    },
    {
      "cell_type": "code",
      "metadata": {
        "id": "X8dUHi2Ydauc",
        "colab_type": "code",
        "colab": {
          "base_uri": "https://localhost:8080/",
          "height": 67
        },
        "outputId": "36705e2e-d8db-4b53-f1d7-e95c3b1f2b5d"
      },
      "source": [
        "rmean = numr.mean(axis=1)\n",
        "gmean = numr.mean(axis=1)\n",
        "bmean= numr.mean(axis=1)\n",
        "print(rmean)\n",
        "print(gmean)\n",
        "print(bmean)"
      ],
      "execution_count": 67,
      "outputs": [
        {
          "output_type": "stream",
          "text": [
            "[211.66666667 205.         168.        ]\n",
            "[211.66666667 205.         168.        ]\n",
            "[211.66666667 205.         168.        ]\n"
          ],
          "name": "stdout"
        }
      ]
    }
  ]
}